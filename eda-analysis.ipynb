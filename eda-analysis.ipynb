{
 "cells": [
  {
   "attachments": {},
   "cell_type": "markdown",
   "metadata": {},
   "source": [
    "#### Load the full dataset"
   ]
  },
  {
   "cell_type": "code",
   "execution_count": 1,
   "metadata": {},
   "outputs": [],
   "source": [
    "import json\n",
    "\n",
    "f = open('data/full-dataset.json')\n",
    "fullData = json.load(f)\n",
    "f.close()"
   ]
  },
  {
   "cell_type": "code",
   "execution_count": null,
   "metadata": {},
   "outputs": [],
   "source": [
    "# This is the standard loop to browse the wristband data trial by trial\n",
    "for participantId in fullData:\n",
    "    if participantId != \"tracks\":\n",
    "        for session in fullData[participantId]:\n",
    "            if session != \"participant_occupation\":\n",
    "                psEDA = fullData[participantId][session][\"wristband\"][\"EDA\"]\n",
    "                \n",
    "                # print the last 10 EDA records\n",
    "                print(psEDA[-10:])"
   ]
  },
  {
   "cell_type": "markdown",
   "metadata": {},
   "source": [
    "### Correlation between skewness and effort"
   ]
  },
  {
   "cell_type": "code",
   "execution_count": 3,
   "metadata": {},
   "outputs": [
    {
     "name": "stdout",
     "output_type": "stream",
     "text": [
      "Spearman\n",
      "rho: 0.31082788741845446\n",
      "p-value: 0.0009497149149889027\n",
      "Pearson\n",
      "rho: 0.20045428945757746\n",
      "p-value: 0.03575281861473693\n"
     ]
    },
    {
     "data": {
      "image/png": "[encoded data removed]",
      "text/plain": [
       "<Figure size 640x480 with 1 Axes>"
      ]
     },
     "metadata": {},
     "output_type": "display_data"
    }
   ],
   "source": [
    "import neurokit2 as nk\n",
    "from scipy import stats\n",
    "import matplotlib.pyplot as plt\n",
    "\n",
    "samplingRate = 8\n",
    "\n",
    "data = {\n",
    "    \"Effort\": [],\n",
    "    \"Skewness\": []\n",
    "}\n",
    "\n",
    "# Browse the wristband EDA data trial by trial\n",
    "for participantId in fullData:\n",
    "    if participantId != \"tracks\":\n",
    "        for session in fullData[participantId]:\n",
    "            if session != \"participant_occupation\":\n",
    "                currentData = fullData[participantId][session]\n",
    "                psEDA = currentData[\"wristband\"][\"EDA\"]\n",
    "                for listening in currentData[\"post_questionnaires\"]:\n",
    "                    if listening[\"spotify_id\"] is not None:\n",
    "                        beginning = listening[\"music_beginning\"]\n",
    "                        end = listening[\"music_end\"] - 10\n",
    "                        \n",
    "                        # Fetch the EDA values of the current trial\n",
    "                        edaValues = []\n",
    "                        for recording in psEDA:\n",
    "                            if recording[\"timestamp\"] >= beginning and recording[\"timestamp\"] <= end:\n",
    "                                edaValues.append(recording[\"value\"])\n",
    "                        \n",
    "                        # Some EDA data are missing for some trials, in which case \"edaValues\" contains 0 values\n",
    "                        if len(edaValues) > 0:\n",
    "                            \n",
    "                            # Resample and process the data\n",
    "                            resampledValues = nk.signal_resample(edaValues, sampling_rate=4, desired_sampling_rate=samplingRate, method=\"interpolation\")\n",
    "                            signals, info = nk.eda_process(resampledValues, sampling_rate = samplingRate)\n",
    "\n",
    "                            if \"RSME\" in listening:\n",
    "                                data[\"Effort\"].append(listening[\"RSME\"])\n",
    "                                data[\"Skewness\"].append(stats.skew(signals[\"EDA_Phasic\"]))\n",
    "\n",
    "x = data[\"Effort\"]\n",
    "y = data[\"Skewness\"]\n",
    "\n",
    "# Compute Spearman correlation\n",
    "res = stats.spearmanr(x, y)\n",
    "print(\"Spearman\")\n",
    "print(\"rho:\", res.statistic)\n",
    "print(\"p-value:\", res.pvalue)\n",
    "\n",
    "# Pearson\n",
    "res = stats.pearsonr(x, y)\n",
    "print(\"Pearson\")\n",
    "print(\"rho:\", res.statistic)\n",
    "print(\"p-value:\", res.pvalue)\n",
    "\n",
    "# plot it\n",
    "plt.scatter(x, y)\n",
    "plt.show()\n"
   ]
  }
 ],
 "metadata": {
  "kernelspec": {
   "display_name": "base",
   "language": "python",
   "name": "python3"
  },
  "language_info": {
   "codemirror_mode": {
    "name": "ipython",
    "version": 3
   },
   "file_extension": ".py",
   "mimetype": "text/x-python",
   "name": "python",
   "nbconvert_exporter": "python",
   "pygments_lexer": "ipython3",
   "version": "3.10.4"
  },
  "orig_nbformat": 4
 },
 "nbformat": 4,
 "nbformat_minor": 2
}
